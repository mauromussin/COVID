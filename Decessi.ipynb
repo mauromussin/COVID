{
 "cells": [
  {
   "cell_type": "markdown",
   "metadata": {},
   "source": [
    "# Playbook per il calcolo dei decessi da PM e Covid"
   ]
  },
  {
   "cell_type": "markdown",
   "metadata": {},
   "source": [
    "## Introduzione\n",
    "Numerosi gruppi di lavoro hanno approcciato questo tema, sul quale ci sono numerose [*pubblicazioni*](#References).\n",
    "Tuttavia pochi lavori sembrano identificare in modo corretto le relazioni causa-effetto o avere un approccio sistematico data la difficoltà di evidenziare relazioni anche solo di correlazioni in un meccanismo estremamente complesso.\n",
    "Per cercare di fare ordine si è organizzato il playbook in sezioni:"
   ]
  },
  {
   "cell_type": "markdown",
   "metadata": {},
   "source": [
    "0. [elementi conoscitivi da raccogliere](#Sezione0)<br>\n",
    "1. [relazione tra PM2.5 e decessi](#Sezione1)<br>\n",
    "    a. [effetto a lungo termine](#Sezione2)<br>\n",
    "    b. [effetto a breve](#Sezione3)<br>\n",
    "2. [la relazione tra PM2.5, decessi, decessi per  Covid-19](#Sezione4)<br>\n",
    "    a. [effetto carrier](#Pulvirus)<br>\n",
    "    b. [effetto boost a lungo termine](#Sezione6)<br>\n",
    "    c. [effetto boost a breve](#Sezione7)<br>\n",
    "3. [Organizzazione dei dati](#Data)<br>"
   ]
  },
  {
   "cell_type": "markdown",
   "metadata": {},
   "source": [
    "# Sezione0\n",
    "per riuscire ad avere completezza nella descrizione delle relazioni tra variabili è necessario avere a disposizione:\n",
    "## Numero di decessi\n",
    "Il numero dei decessi può essere\n",
    "1. relativo a un anno\n",
    "2. relativo al giorno\n",
    "\n",
    "### dati provinciali\n",
    "I dati provinciali relativi ai decessi sono disponibili sul potrale di ISTAT.\n",
    "Sul repository github della protezione Civile sono disponibili i dati giornalieri a livello provinciale di decessi, tamponi, guariti, infetti, ricoverati\n",
    "\n",
    "### dati comunali\n",
    "I dati dei decessi a livello comunale non sono disponibili a meno di chiedere al servizio epidemiologico di Regione Lombardia.\n",
    "Eccezionalmente sono disponibili i dati giornalieri dei decessi per comune e per classe di età si veda la [sezione data](#Data)\n",
    "## Valori di PM\n",
    "### PM2.5\n",
    "### PM10\n",
    "[Torna a Home](#Introduzione)"
   ]
  },
  {
   "cell_type": "markdown",
   "metadata": {},
   "source": [
    "# Sezione7\n",
    "** Evidenza di effetti a breve termine **\n",
    "Grazie ai dati lombardi di mortalità giornaliera [vd.](#Data) si può cercare di capire se per ogni comune:<br>\n",
    "a. ci sia stata una differenza nei decessi tra gli anni 2015-2019 e il 2020 nei primi tre mesi<br>\n",
    "b. la differenza sia dovuta al Covid-19<br>\n",
    "c. ci sia un effetto boost a breve termine del PM2.5<br>"
   ]
  },
  {
   "cell_type": "markdown",
   "metadata": {},
   "source": [
    "Lettura file"
   ]
  },
  {
   "cell_type": "code",
   "execution_count": 125,
   "metadata": {},
   "outputs": [],
   "source": [
    "import pandas as pd\n",
    "nomefile='comuni_Lombardia_giornaliero.txt'\n",
    "df=pd.read_csv(nomefile, engine='python')"
   ]
  },
  {
   "cell_type": "markdown",
   "metadata": {},
   "source": [
    "Controllo"
   ]
  },
  {
   "cell_type": "code",
   "execution_count": 127,
   "metadata": {
    "scrolled": true
   },
   "outputs": [
    {
     "data": {
      "text/plain": [
       "145104    0.0\n",
       "145105    0.0\n",
       "145106    1.0\n",
       "145107    0.0\n",
       "145108    0.0\n",
       "145109    0.0\n",
       "145110    0.0\n",
       "145111    0.0\n",
       "145112    0.0\n",
       "145113    1.0\n",
       "145114    0.0\n",
       "145115    0.0\n",
       "145116    0.0\n",
       "145117    1.0\n",
       "145118    1.0\n",
       "145119    0.0\n",
       "145120    0.0\n",
       "145121    0.0\n",
       "145122    NaN\n",
       "145123    0.0\n",
       "145124    0.0\n",
       "145125    0.0\n",
       "145126    0.0\n",
       "145127    0.0\n",
       "145128    0.0\n",
       "145129    1.0\n",
       "145130    1.0\n",
       "145131    1.0\n",
       "145132    0.0\n",
       "145133    NaN\n",
       "         ... \n",
       "145760    2.0\n",
       "145761    0.0\n",
       "145762    1.0\n",
       "145763    0.0\n",
       "145764    0.0\n",
       "145765    1.0\n",
       "145766    NaN\n",
       "145767    NaN\n",
       "145768    NaN\n",
       "145769    NaN\n",
       "145770    NaN\n",
       "145771    NaN\n",
       "145772    NaN\n",
       "145773    NaN\n",
       "145774    NaN\n",
       "145775    0.0\n",
       "145776    0.0\n",
       "145777    1.0\n",
       "145778    1.0\n",
       "145779    0.0\n",
       "145780    0.0\n",
       "145781    1.0\n",
       "145782    0.0\n",
       "145783    1.0\n",
       "145784    0.0\n",
       "145785    1.0\n",
       "145786    0.0\n",
       "145787    1.0\n",
       "145788    0.0\n",
       "145789    NaN\n",
       "Name: T_20, Length: 686, dtype: float64"
      ]
     },
     "execution_count": 127,
     "metadata": {},
     "output_type": "execute_result"
    }
   ],
   "source": [
    "df.query('NOME_COMUNE==\"Lodi\"')['T_20']"
   ]
  },
  {
   "cell_type": "markdown",
   "metadata": {},
   "source": [
    "Raggruppamento per comune e data"
   ]
  },
  {
   "cell_type": "code",
   "execution_count": 128,
   "metadata": {},
   "outputs": [],
   "source": [
    "df_tot=df.groupby(['NOME_COMUNE','GE']).sum()"
   ]
  },
  {
   "cell_type": "markdown",
   "metadata": {},
   "source": [
    "Controllo"
   ]
  },
  {
   "cell_type": "code",
   "execution_count": 129,
   "metadata": {
    "scrolled": true
   },
   "outputs": [
    {
     "data": {
      "text/plain": [
       "NOME_COMUNE  GE \n",
       "Lodi         101    0.0\n",
       "             102    3.0\n",
       "             103    3.0\n",
       "             104    1.0\n",
       "             105    0.0\n",
       "             106    1.0\n",
       "             107    2.0\n",
       "             108    3.0\n",
       "             109    3.0\n",
       "             110    4.0\n",
       "             111    1.0\n",
       "             112    0.0\n",
       "             113    3.0\n",
       "             114    1.0\n",
       "             115    3.0\n",
       "             116    1.0\n",
       "             117    3.0\n",
       "             118    3.0\n",
       "             119    0.0\n",
       "             120    3.0\n",
       "             121    2.0\n",
       "             122    2.0\n",
       "             123    1.0\n",
       "             124    1.0\n",
       "             125    0.0\n",
       "             126    1.0\n",
       "             127    0.0\n",
       "             128    2.0\n",
       "             129    0.0\n",
       "             130    3.0\n",
       "                   ... \n",
       "             401    4.0\n",
       "             402    6.0\n",
       "             403    4.0\n",
       "             404    4.0\n",
       "             405    3.0\n",
       "             406    5.0\n",
       "             407    2.0\n",
       "             408    1.0\n",
       "             409    2.0\n",
       "             410    2.0\n",
       "             411    6.0\n",
       "             412    2.0\n",
       "             413    1.0\n",
       "             414    4.0\n",
       "             415    4.0\n",
       "             416    0.0\n",
       "             417    0.0\n",
       "             418    0.0\n",
       "             419    0.0\n",
       "             420    0.0\n",
       "             421    0.0\n",
       "             422    0.0\n",
       "             423    0.0\n",
       "             424    0.0\n",
       "             425    0.0\n",
       "             426    0.0\n",
       "             427    0.0\n",
       "             428    0.0\n",
       "             429    0.0\n",
       "             430    0.0\n",
       "Name: T_20, Length: 121, dtype: float64"
      ]
     },
     "execution_count": 129,
     "metadata": {},
     "output_type": "execute_result"
    }
   ],
   "source": [
    "df_tot.query('NOME_COMUNE==\"Lodi\"')['T_20']"
   ]
  },
  {
   "cell_type": "markdown",
   "metadata": {},
   "source": [
    "Plottaggio in bokeh"
   ]
  },
  {
   "cell_type": "code",
   "execution_count": 131,
   "metadata": {},
   "outputs": [],
   "source": [
    "from bokeh.plotting import figure, output_file, show\n",
    "output_file(\"decessi.html\")\n",
    "x=pd.date_range('2020-01-01',periods=120,freq='D')"
   ]
  },
  {
   "cell_type": "markdown",
   "metadata": {},
   "source": [
    "Codice per il plottaggio del generico comune: basta cambiare il nome e il plottaggio viene eseguito in una scheda del browser"
   ]
  },
  {
   "cell_type": "code",
   "execution_count": 239,
   "metadata": {},
   "outputs": [
    {
     "name": "stderr",
     "output_type": "stream",
     "text": [
      "C:\\Users\\Mauro\\Anaconda3\\lib\\site-packages\\bokeh\\models\\sources.py:110: BokehUserWarning: ColumnDataSource's columns must be of the same length. Current lengths: ('x', 120), ('y', 88)\n",
      "  \"Current lengths: %s\" % \", \".join(sorted(str((k, len(v))) for k, v in data.items())), BokehUserWarning))\n",
      "C:\\Users\\Mauro\\Anaconda3\\lib\\site-packages\\bokeh\\models\\sources.py:110: BokehUserWarning: ColumnDataSource's columns must be of the same length. Current lengths: ('x', 120), ('y', 88)\n",
      "  \"Current lengths: %s\" % \", \".join(sorted(str((k, len(v))) for k, v in data.items())), BokehUserWarning))\n",
      "C:\\Users\\Mauro\\Anaconda3\\lib\\site-packages\\bokeh\\models\\sources.py:110: BokehUserWarning: ColumnDataSource's columns must be of the same length. Current lengths: ('x', 120), ('y', 88)\n",
      "  \"Current lengths: %s\" % \", \".join(sorted(str((k, len(v))) for k, v in data.items())), BokehUserWarning))\n",
      "C:\\Users\\Mauro\\Anaconda3\\lib\\site-packages\\bokeh\\models\\sources.py:110: BokehUserWarning: ColumnDataSource's columns must be of the same length. Current lengths: ('x', 120), ('y', 88)\n",
      "  \"Current lengths: %s\" % \", \".join(sorted(str((k, len(v))) for k, v in data.items())), BokehUserWarning))\n",
      "C:\\Users\\Mauro\\Anaconda3\\lib\\site-packages\\bokeh\\models\\sources.py:110: BokehUserWarning: ColumnDataSource's columns must be of the same length. Current lengths: ('x', 120), ('y', 88)\n",
      "  \"Current lengths: %s\" % \", \".join(sorted(str((k, len(v))) for k, v in data.items())), BokehUserWarning))\n",
      "C:\\Users\\Mauro\\Anaconda3\\lib\\site-packages\\bokeh\\models\\sources.py:110: BokehUserWarning: ColumnDataSource's columns must be of the same length. Current lengths: ('x', 120), ('y', 88)\n",
      "  \"Current lengths: %s\" % \", \".join(sorted(str((k, len(v))) for k, v in data.items())), BokehUserWarning))\n"
     ]
    }
   ],
   "source": [
    "Comune=\"Castiglione d\\'Adda\"\n",
    "p=figure(title=\"Decessi Comune \"+Comune, x_axis_label='data',y_axis_label='num',x_axis_type='datetime')\n",
    "p.line(x,df_tot.query('NOME_COMUNE==@Comune')['T_20'],line_color=\"red\",legend='2020')\n",
    "p.line(x,df_tot.query('NOME_COMUNE==@Comune')['T_19'],line_color=\"blue\")\n",
    "p.line(x,df_tot.query('NOME_COMUNE==@Comune')['T_18'],line_color=\"blue\")\n",
    "p.line(x,df_tot.query('NOME_COMUNE==@Comune')['T_17'],line_color=\"blue\")\n",
    "p.line(x,df_tot.query('NOME_COMUNE==@Comune')['T_16'],line_color=\"blue\")\n",
    "p.line(x,df_tot.query('NOME_COMUNE==@Comune')['T_15'],line_color=\"blue\")\n",
    "show(p)\n"
   ]
  },
  {
   "cell_type": "markdown",
   "metadata": {},
   "source": [
    "# Approccio statistico\n",
    "L'approccio più corretto è quello probabilistico: la distribuzione è data dagli anni precedenti (T_15->T19): quanto è probabile che il dato T_20 appartenga a quella distribuzione? Infatti è ragionevole pensare che il numero di morti sia casuale ma costante in assenza di eventi. Una volta identificati questi casi per categoria d'età si può vedere se c'è correlazione con presenza di casa di cura. Sarebbe ancora più interessante vedere se c'è correlazione con RSA che hanno accettato COVID\n"
   ]
  },
  {
   "cell_type": "code",
   "execution_count": 148,
   "metadata": {},
   "outputs": [],
   "source": [
    "from scipy import stats"
   ]
  },
  {
   "cell_type": "markdown",
   "metadata": {},
   "source": [
    "Test shapiro wilks se i dati sono gaussiani, confidenza 99%.\n",
    "\n",
    "Aggiunta condizione su max nel 2020"
   ]
  },
  {
   "cell_type": "code",
   "execution_count": 238,
   "metadata": {},
   "outputs": [
    {
     "name": "stdout",
     "output_type": "stream",
     "text": [
      "Non posso dire Gaussiana (\"Castiglione d'Adda\", 103) (0, 0, 0, 0, 0, 1.0) 2.0729139578179456e-05\n",
      "Non posso dire Gaussiana (\"Castiglione d'Adda\", 112) (1, 0, 0, 0, 0, 2.0) 0.006373272743076086\n",
      "Non posso dire Gaussiana (\"Castiglione d'Adda\", 125) (0, 0, 0, 0, 1, 1.0) 0.0013507520779967308\n",
      "Non posso dire Gaussiana (\"Castiglione d'Adda\", 127) (0, 0, 1, 0, 0, 1.0) 0.0013507520779967308\n",
      "Non posso dire Gaussiana (\"Castiglione d'Adda\", 130) (0, 1, 1, 1, 0, 1.0) 0.0013507615076377988\n",
      "Non posso dire Gaussiana (\"Castiglione d'Adda\", 204) (1, 0, 0, 0, 0, 1.0) 0.0013507520779967308\n",
      "Non posso dire Gaussiana (\"Castiglione d'Adda\", 205) (0, 0, 0, 0, 0, 1.0) 2.0729139578179456e-05\n",
      "Non posso dire Gaussiana (\"Castiglione d'Adda\", 220) (0, 0, 0, 0, 1, 1.0) 0.0013507520779967308\n",
      "Non posso dire Gaussiana (\"Castiglione d'Adda\", 223) (0, 0, 0, 0, 0, 1.0) 2.0729139578179456e-05\n",
      "Non posso dire Gaussiana (\"Castiglione d'Adda\", 228) (0, 0, 0, 1, 0, 2.0) 0.006373272743076086\n",
      "Non posso dire Gaussiana (\"Castiglione d'Adda\", 229) (0, 0, 0, 0, 0, 3.0) 2.0729139578179456e-05\n",
      "Non posso dire Gaussiana (\"Castiglione d'Adda\", 301) (0, 0, 0, 0, 0, 3.0) 2.0729139578179456e-05\n",
      "Non posso dire Gaussiana (\"Castiglione d'Adda\", 303) (0, 0, 0, 0, 0, 5.0) 2.0729139578179456e-05\n",
      "Non posso dire Gaussiana (\"Castiglione d'Adda\", 305) (1, 0, 1, 0, 0, 1.0) 0.004039337392896414\n",
      "Non posso dire Gaussiana (\"Castiglione d'Adda\", 306) (0, 0, 0, 0, 0, 3.0) 2.0729139578179456e-05\n",
      "Non posso dire Gaussiana (\"Castiglione d'Adda\", 307) (0, 0, 0, 0, 0, 1.0) 2.0729139578179456e-05\n",
      "Non posso dire Gaussiana (\"Castiglione d'Adda\", 308) (0, 0, 0, 0, 0, 1.0) 2.0729139578179456e-05\n",
      "Non posso dire Gaussiana (\"Castiglione d'Adda\", 309) (1, 0, 0, 0, 0, 3.0) 0.002641358645632863\n",
      "Non posso dire Gaussiana (\"Castiglione d'Adda\", 310) (0, 0, 0, 0, 0, 3.0) 2.0729139578179456e-05\n",
      "Non posso dire Gaussiana (\"Castiglione d'Adda\", 311) (0, 0, 0, 1, 0, 5.0) 0.0006205856334418058\n",
      "Non posso dire Gaussiana (\"Castiglione d'Adda\", 312) (0, 0, 0, 1, 0, 1.0) 0.0013507520779967308\n",
      "Non posso dire Gaussiana (\"Castiglione d'Adda\", 314) (0, 0, 0, 1, 0, 1.0) 0.0013507520779967308\n",
      "Non posso dire Gaussiana (\"Castiglione d'Adda\", 316) (0, 0, 0, 0, 0, 1.0) 2.0729139578179456e-05\n",
      "Non posso dire Gaussiana (\"Castiglione d'Adda\", 318) (0, 0, 1, 1, 0, 6.0) 0.0019333056407049298\n",
      "Non posso dire Gaussiana (\"Castiglione d'Adda\", 319) (1, 0, 0, 0, 0, 3.0) 0.002641358645632863\n",
      "Non posso dire Gaussiana (\"Castiglione d'Adda\", 321) (0, 0, 0, 0, 0, 2.0) 2.0729139578179456e-05\n",
      "Non posso dire Gaussiana (\"Castiglione d'Adda\", 323) (0, 0, 0, 0, 0, 1.0) 2.0729139578179456e-05\n",
      "Non posso dire Gaussiana (\"Castiglione d'Adda\", 324) (0, 0, 0, 0, 1, 1.0) 0.0013507520779967308\n",
      "Non posso dire Gaussiana (\"Castiglione d'Adda\", 328) (0, 0, 1, 0, 0, 1.0) 0.0013507520779967308\n",
      "Non posso dire Gaussiana (\"Castiglione d'Adda\", 330) (0, 0, 0, 1, 0, 1.0) 0.0013507520779967308\n",
      "Non posso dire Gaussiana (\"Castiglione d'Adda\", 401) (0, 1, 0, 1, 0, 1.0) 0.004039337392896414\n",
      "Non posso dire Gaussiana (\"Castiglione d'Adda\", 402) (0, 1, 0, 0, 0, 3.0) 0.002641358645632863\n",
      "Non posso dire Gaussiana (\"Castiglione d'Adda\", 406) (0, 0, 0, 0, 0, 1.0) 2.0729139578179456e-05\n",
      "Non posso dire Gaussiana (\"Castiglione d'Adda\", 413) (0, 0, 0, 0, 0, 1.0) 2.0729139578179456e-05\n"
     ]
    }
   ],
   "source": [
    "for i in df_tot.query('NOME_COMUNE==\"Castiglione d\\'Adda\"').index:\n",
    "    a=df_tot['T_15'][i],df_tot['T_16'][i],df_tot['T_17'][i],df_tot['T_18'][i],df_tot['T_19'][i],df_tot['T_20'][i]\n",
    "    stat,p=stats.shapiro(a)\n",
    "    M=0\n",
    "    M_2020=False\n",
    "    for j in a:\n",
    "        if j>M:\n",
    "            M=j\n",
    "    if (a[5]==M):\n",
    "        M_2020=True\n",
    "    #M=max(a)\n",
    "    if p< 0.01 and M_2020:\n",
    "       print ('Non posso dire Gaussiana',i,a,p)\n",
    "       \n",
    "    else:\n",
    "        #print ('Non posso negare che sia gaussiana',i,a,p)\n",
    "        instr=0\n",
    "    \n",
    "    \n"
   ]
  },
  {
   "cell_type": "markdown",
   "metadata": {},
   "source": [
    "Test kwiatowski (KPSS) sulla stazionarietà della serie: nessun risultato utile"
   ]
  },
  {
   "cell_type": "code",
   "execution_count": 174,
   "metadata": {},
   "outputs": [],
   "source": [
    "from statsmodels.tsa.stattools import kpss"
   ]
  },
  {
   "cell_type": "markdown",
   "metadata": {},
   "source": [
    "Test anderson-darling"
   ]
  },
  {
   "cell_type": "code",
   "execution_count": 231,
   "metadata": {},
   "outputs": [
    {
     "name": "stdout",
     "output_type": "stream",
     "text": [
      "(\"Castiglione d'Adda\", 102) (2, 0, 0, 0, 0, 0.0)\n",
      "Probably not Gaussian at the 15.0% level\n",
      "(\"Castiglione d'Adda\", 103) (0, 0, 0, 0, 0, 1.0)\n",
      "Probably not Gaussian at the 15.0% level\n",
      "(\"Castiglione d'Adda\", 104) (1, 0, 0, 0, 0, 0.0)\n",
      "Probably not Gaussian at the 15.0% level\n",
      "(\"Castiglione d'Adda\", 105) (1, 0, 0, 0, 2, 0.0)\n",
      "Probably not Gaussian at the 15.0% level\n",
      "(\"Castiglione d'Adda\", 110) (0, 1, 0, 1, 0, 0.0)\n",
      "Probably not Gaussian at the 15.0% level\n",
      "(\"Castiglione d'Adda\", 111) (2, 1, 0, 0, 0, 0.0)\n",
      "Probably not Gaussian at the 15.0% level\n",
      "(\"Castiglione d'Adda\", 112) (1, 0, 0, 0, 0, 2.0)\n",
      "Probably not Gaussian at the 15.0% level\n",
      "(\"Castiglione d'Adda\", 113) (2, 0, 1, 0, 0, 0.0)\n",
      "Probably not Gaussian at the 15.0% level\n",
      "(\"Castiglione d'Adda\", 114) (1, 0, 0, 1, 1, 0.0)\n",
      "Probably not Gaussian at the 15.0% level\n",
      "(\"Castiglione d'Adda\", 116) (1, 0, 1, 0, 0, 0.0)\n",
      "Probably not Gaussian at the 15.0% level\n",
      "(\"Castiglione d'Adda\", 117) (0, 0, 1, 0, 0, 0.0)\n",
      "Probably not Gaussian at the 15.0% level\n",
      "(\"Castiglione d'Adda\", 118) (0, 1, 0, 0, 0, 0.0)\n",
      "Probably not Gaussian at the 15.0% level\n",
      "(\"Castiglione d'Adda\", 120) (1, 1, 0, 0, 0, 0.0)\n",
      "Probably not Gaussian at the 15.0% level\n",
      "(\"Castiglione d'Adda\", 121) (1, 1, 0, 0, 0, 0.0)\n",
      "Probably not Gaussian at the 15.0% level\n",
      "(\"Castiglione d'Adda\", 122) (0, 1, 0, 0, 0, 0.0)\n",
      "Probably not Gaussian at the 15.0% level\n",
      "(\"Castiglione d'Adda\", 124) (0, 0, 0, 1, 0, 0.0)\n",
      "Probably not Gaussian at the 15.0% level\n",
      "(\"Castiglione d'Adda\", 125) (0, 0, 0, 0, 1, 1.0)\n",
      "Probably not Gaussian at the 15.0% level\n",
      "(\"Castiglione d'Adda\", 126) (0, 0, 0, 0, 2, 0.0)\n",
      "Probably not Gaussian at the 15.0% level\n",
      "(\"Castiglione d'Adda\", 127) (0, 0, 1, 0, 0, 1.0)\n",
      "Probably not Gaussian at the 15.0% level\n",
      "(\"Castiglione d'Adda\", 128) (0, 0, 0, 0, 1, 0.0)\n",
      "Probably not Gaussian at the 15.0% level\n",
      "(\"Castiglione d'Adda\", 129) (2, 0, 1, 0, 0, 0.0)\n",
      "Probably not Gaussian at the 15.0% level\n",
      "(\"Castiglione d'Adda\", 130) (0, 1, 1, 1, 0, 1.0)\n",
      "Probably not Gaussian at the 15.0% level\n",
      "(\"Castiglione d'Adda\", 201) (0, 0, 0, 0, 1, 0.0)\n",
      "Probably not Gaussian at the 15.0% level\n",
      "(\"Castiglione d'Adda\", 203) (0, 1, 0, 0, 0, 0.0)\n",
      "Probably not Gaussian at the 15.0% level\n",
      "(\"Castiglione d'Adda\", 204) (1, 0, 0, 0, 0, 1.0)\n",
      "Probably not Gaussian at the 15.0% level\n",
      "(\"Castiglione d'Adda\", 205) (0, 0, 0, 0, 0, 1.0)\n",
      "Probably not Gaussian at the 15.0% level\n",
      "(\"Castiglione d'Adda\", 206) (0, 1, 0, 0, 0, 0.0)\n",
      "Probably not Gaussian at the 15.0% level\n",
      "(\"Castiglione d'Adda\", 208) (0, 0, 1, 0, 0, 0.0)\n",
      "Probably not Gaussian at the 15.0% level\n",
      "(\"Castiglione d'Adda\", 209) (0, 1, 0, 0, 0, 0.0)\n",
      "Probably not Gaussian at the 15.0% level\n",
      "(\"Castiglione d'Adda\", 212) (0, 1, 0, 0, 0, 0.0)\n",
      "Probably not Gaussian at the 15.0% level\n",
      "(\"Castiglione d'Adda\", 213) (0, 0, 1, 0, 0, 0.0)\n",
      "Probably not Gaussian at the 15.0% level\n",
      "(\"Castiglione d'Adda\", 215) (0, 0, 0, 0, 1, 0.0)\n",
      "Probably not Gaussian at the 15.0% level\n",
      "(\"Castiglione d'Adda\", 216) (1, 0, 0, 0, 0, 0.0)\n",
      "Probably not Gaussian at the 15.0% level\n",
      "(\"Castiglione d'Adda\", 217) (0, 1, 0, 0, 0, 0.0)\n",
      "Probably not Gaussian at the 15.0% level\n",
      "(\"Castiglione d'Adda\", 219) (1, 0, 1, 0, 0, 0.0)\n",
      "Probably not Gaussian at the 15.0% level\n",
      "(\"Castiglione d'Adda\", 220) (0, 0, 0, 0, 1, 1.0)\n",
      "Probably not Gaussian at the 15.0% level\n",
      "(\"Castiglione d'Adda\", 223) (0, 0, 0, 0, 0, 1.0)\n",
      "Probably not Gaussian at the 15.0% level\n",
      "(\"Castiglione d'Adda\", 224) (0, 0, 0, 1, 1, 2.0)\n",
      "Probably not Gaussian at the 15.0% level\n",
      "(\"Castiglione d'Adda\", 226) (0, 0, 0, 1, 0, 0.0)\n",
      "Probably not Gaussian at the 15.0% level\n",
      "(\"Castiglione d'Adda\", 228) (0, 0, 0, 1, 0, 2.0)\n",
      "Probably not Gaussian at the 15.0% level\n",
      "(\"Castiglione d'Adda\", 229) (0, 0, 0, 0, 0, 3.0)\n",
      "Probably not Gaussian at the 15.0% level\n",
      "(\"Castiglione d'Adda\", 301) (0, 0, 0, 0, 0, 3.0)\n",
      "Probably not Gaussian at the 15.0% level\n",
      "(\"Castiglione d'Adda\", 302) (1, 0, 2, 0, 0, 1.0)\n",
      "Probably not Gaussian at the 15.0% level\n",
      "(\"Castiglione d'Adda\", 303) (0, 0, 0, 0, 0, 5.0)\n",
      "Probably not Gaussian at the 15.0% level\n",
      "(\"Castiglione d'Adda\", 304) (1, 1, 0, 0, 0, 0.0)\n",
      "Probably not Gaussian at the 15.0% level\n",
      "(\"Castiglione d'Adda\", 305) (1, 0, 1, 0, 0, 1.0)\n",
      "Probably not Gaussian at the 15.0% level\n",
      "(\"Castiglione d'Adda\", 306) (0, 0, 0, 0, 0, 3.0)\n",
      "Probably not Gaussian at the 15.0% level\n",
      "(\"Castiglione d'Adda\", 307) (0, 0, 0, 0, 0, 1.0)\n",
      "Probably not Gaussian at the 15.0% level\n",
      "(\"Castiglione d'Adda\", 308) (0, 0, 0, 0, 0, 1.0)\n",
      "Probably not Gaussian at the 15.0% level\n",
      "(\"Castiglione d'Adda\", 309) (1, 0, 0, 0, 0, 3.0)\n",
      "Probably not Gaussian at the 15.0% level\n",
      "(\"Castiglione d'Adda\", 310) (0, 0, 0, 0, 0, 3.0)\n",
      "Probably not Gaussian at the 15.0% level\n",
      "(\"Castiglione d'Adda\", 311) (0, 0, 0, 1, 0, 5.0)\n",
      "Probably not Gaussian at the 15.0% level\n",
      "(\"Castiglione d'Adda\", 312) (0, 0, 0, 1, 0, 1.0)\n",
      "Probably not Gaussian at the 15.0% level\n",
      "(\"Castiglione d'Adda\", 313) (1, 0, 0, 0, 1, 2.0)\n",
      "Probably not Gaussian at the 15.0% level\n",
      "(\"Castiglione d'Adda\", 314) (0, 0, 0, 1, 0, 1.0)\n",
      "Probably not Gaussian at the 15.0% level\n",
      "(\"Castiglione d'Adda\", 315) (0, 0, 1, 0, 1, 4.0)\n",
      "Probably not Gaussian at the 15.0% level\n",
      "(\"Castiglione d'Adda\", 316) (0, 0, 0, 0, 0, 1.0)\n",
      "Probably not Gaussian at the 15.0% level\n",
      "(\"Castiglione d'Adda\", 317) (0, 0, 1, 0, 1, 2.0)\n",
      "Probably not Gaussian at the 15.0% level\n",
      "(\"Castiglione d'Adda\", 318) (0, 0, 1, 1, 0, 6.0)\n",
      "Probably not Gaussian at the 15.0% level\n",
      "(\"Castiglione d'Adda\", 319) (1, 0, 0, 0, 0, 3.0)\n",
      "Probably not Gaussian at the 15.0% level\n",
      "(\"Castiglione d'Adda\", 321) (0, 0, 0, 0, 0, 2.0)\n",
      "Probably not Gaussian at the 15.0% level\n",
      "(\"Castiglione d'Adda\", 323) (0, 0, 0, 0, 0, 1.0)\n",
      "Probably not Gaussian at the 15.0% level\n",
      "(\"Castiglione d'Adda\", 324) (0, 0, 0, 0, 1, 1.0)\n",
      "Probably not Gaussian at the 15.0% level\n",
      "(\"Castiglione d'Adda\", 325) (2, 0, 0, 0, 0, 1.0)\n",
      "Probably not Gaussian at the 15.0% level\n",
      "(\"Castiglione d'Adda\", 326) (0, 0, 2, 0, 0, 1.0)\n",
      "Probably not Gaussian at the 15.0% level\n",
      "(\"Castiglione d'Adda\", 327) (0, 1, 0, 0, 0, 0.0)\n",
      "Probably not Gaussian at the 15.0% level\n",
      "(\"Castiglione d'Adda\", 328) (0, 0, 1, 0, 0, 1.0)\n",
      "Probably not Gaussian at the 15.0% level\n",
      "(\"Castiglione d'Adda\", 330) (0, 0, 0, 1, 0, 1.0)\n",
      "Probably not Gaussian at the 15.0% level\n",
      "(\"Castiglione d'Adda\", 401) (0, 1, 0, 1, 0, 1.0)\n",
      "Probably not Gaussian at the 15.0% level\n",
      "(\"Castiglione d'Adda\", 402) (0, 1, 0, 0, 0, 3.0)\n",
      "Probably not Gaussian at the 15.0% level\n",
      "(\"Castiglione d'Adda\", 403) (0, 0, 0, 0, 1, 0.0)\n",
      "Probably not Gaussian at the 15.0% level\n",
      "(\"Castiglione d'Adda\", 404) (0, 0, 0, 0, 1, 0.0)\n",
      "Probably not Gaussian at the 15.0% level\n",
      "(\"Castiglione d'Adda\", 405) (0, 0, 1, 0, 0, 0.0)\n",
      "Probably not Gaussian at the 15.0% level\n",
      "(\"Castiglione d'Adda\", 406) (0, 0, 0, 0, 0, 1.0)\n",
      "Probably not Gaussian at the 15.0% level\n",
      "(\"Castiglione d'Adda\", 407) (0, 0, 1, 2, 0, 0.0)\n",
      "Probably not Gaussian at the 15.0% level\n",
      "(\"Castiglione d'Adda\", 408) (1, 0, 0, 0, 0, 0.0)\n",
      "Probably not Gaussian at the 15.0% level\n",
      "(\"Castiglione d'Adda\", 409) (1, 0, 0, 1, 0, 0.0)\n",
      "Probably not Gaussian at the 15.0% level\n",
      "(\"Castiglione d'Adda\", 412) (0, 0, 0, 1, 0, 0.0)\n",
      "Probably not Gaussian at the 15.0% level\n",
      "(\"Castiglione d'Adda\", 413) (0, 0, 0, 0, 0, 1.0)\n",
      "Probably not Gaussian at the 15.0% level\n",
      "(\"Castiglione d'Adda\", 416) (0, 0, 1, 1, 0, 0.0)\n",
      "Probably not Gaussian at the 15.0% level\n",
      "(\"Castiglione d'Adda\", 418) (0, 0, 0, 1, 0, 0.0)\n",
      "Probably not Gaussian at the 15.0% level\n",
      "(\"Castiglione d'Adda\", 419) (0, 0, 0, 1, 0, 0.0)\n",
      "Probably not Gaussian at the 15.0% level\n",
      "(\"Castiglione d'Adda\", 421) (0, 0, 0, 1, 1, 0.0)\n",
      "Probably not Gaussian at the 15.0% level\n",
      "(\"Castiglione d'Adda\", 423) (2, 0, 0, 0, 0, 0.0)\n",
      "Probably not Gaussian at the 15.0% level\n",
      "(\"Castiglione d'Adda\", 424) (0, 1, 1, 0, 2, 0.0)\n",
      "(\"Castiglione d'Adda\", 427) (0, 1, 0, 0, 0, 0.0)\n",
      "Probably not Gaussian at the 15.0% level\n",
      "(\"Castiglione d'Adda\", 428) (0, 1, 0, 0, 0, 0.0)\n",
      "Probably not Gaussian at the 15.0% level\n",
      "(\"Castiglione d'Adda\", 429) (0, 0, 0, 1, 0, 0.0)\n",
      "Probably not Gaussian at the 15.0% level\n"
     ]
    }
   ],
   "source": [
    "for i in df_tot.query('NOME_COMUNE==\"Castiglione d\\'Adda\"').index:\n",
    "    a=df_tot['T_15'][i],df_tot['T_16'][i],df_tot['T_17'][i],df_tot['T_18'][i],df_tot['T_19'][i],df_tot['T_20'][i]\n",
    "    media=sum(a)/len(a)\n",
    "    #print(max(a))\n",
    "    result=stats.anderson(a)\n",
    "    print(i,a)\n",
    "    #print('stat=%.3f' % (result.statistic))\n",
    "   # for j in range(len(result.critical_values)):\n",
    "    sl, cv = result.significance_level[0], result.critical_values[0]\n",
    "    if (result.statistic < cv and a[5] < media) :\n",
    "            #print('Probably Gaussian at the %.1f%% level' % (sl))\n",
    "            b=0\n",
    "    else:\n",
    "            print('Probably not Gaussian at the %.1f%% level' % (sl) )"
   ]
  },
  {
   "cell_type": "markdown",
   "metadata": {},
   "source": [
    "Questa impostazione funziona bene con i comuni grossi, ma con quelli piccoli dove possono esserci giorni senza decessi la condizione di gaussianità è normalmente violata sul giorno. Andrebbe integrato il dato nel tempo."
   ]
  },
  {
   "cell_type": "code",
   "execution_count": 185,
   "metadata": {},
   "outputs": [
    {
     "name": "stdout",
     "output_type": "stream",
     "text": [
      "0.4063154051377911 15.0 0.592\n",
      "Probably Gaussian at the 15.0% level\n",
      "0.4063154051377911 10.0 0.675\n",
      "Probably Gaussian at the 10.0% level\n",
      "0.4063154051377911 5.0 0.809\n",
      "Probably Gaussian at the 5.0% level\n",
      "0.4063154051377911 2.5 0.944\n",
      "Probably Gaussian at the 2.5% level\n",
      "0.4063154051377911 1.0 1.123\n",
      "Probably Gaussian at the 1.0% level\n"
     ]
    }
   ],
   "source": [
    "a=2, 1, 4, 2, 5, 15.0\n",
    "a=7, 3, 7, 0, 1, 17.0\n",
    "result=stats.anderson(a)\n",
    "for j in range(len(result.critical_values)):\n",
    "        sl, cv = result.significance_level[j], result.critical_values[j]\n",
    "        print(result.statistic,sl,cv)\n",
    "        if result.statistic < cv:\n",
    "            print('Probably Gaussian at the %.1f%% level' % (sl))\n",
    "        else:\n",
    "            print('Probably not Gaussian at the %.1f%% level' % (sl))"
   ]
  },
  {
   "cell_type": "code",
   "execution_count": 158,
   "metadata": {},
   "outputs": [
    {
     "name": "stdout",
     "output_type": "stream",
     "text": [
      "Gaussiana (9, 2, 2, 5, 2, 4.0) 0.06086520105600357\n"
     ]
    }
   ],
   "source": [
    "stat,p=stats.shapiro(a)\n",
    "if p> 0.05:\n",
    "    print ('Gaussiana',a,p)\n",
    "else:\n",
    "    print ('Non gaussiana',a,p)"
   ]
  },
  {
   "cell_type": "markdown",
   "metadata": {},
   "source": [
    "Test: la funzione max non funziona per qualche misterioso motivo, ho quindi dovuto ricrearla. Sarebbe meglio passare a una funzione vera e propria"
   ]
  },
  {
   "cell_type": "code",
   "execution_count": 235,
   "metadata": {},
   "outputs": [
    {
     "name": "stdout",
     "output_type": "stream",
     "text": [
      "15.0\n",
      "Il massimo è nel 2020\n"
     ]
    }
   ],
   "source": [
    "a=2, 1, 4, 2, 5, 15.0\n",
    "M=0\n",
    "for i in a:\n",
    "    if i>M:\n",
    "        M=i\n",
    "print(M)\n",
    "if (a[5]==M):\n",
    "    print(\"Il massimo è nel 2020\")"
   ]
  },
  {
   "cell_type": "markdown",
   "metadata": {},
   "source": [
    "**FINE SEZIONE** [Torna a Home](#Introduzione)"
   ]
  },
  {
   "cell_type": "markdown",
   "metadata": {},
   "source": [
    "# References\n",
    "1. Relazione tra PM2.5 e decessi<br>\n",
    "    a. relazioni per esposizione prolungata<br>\n",
    "    b. relazioni per esposizioni a breve termine<br>\n",
    "2. Relazione PM2.5, decessi e Covid-19<br>\n",
    "    a. effetto carrier<br>\n",
    "    b. effetto boost per esposizione prolungata<br>\n",
    "    c. effetto boost per esposizione a breve termine<br>\n",
    ">**Med-particles** Il progetto ha indagato la relazione tra mortalità e morbilità a breve termine in relazione all'inquinamento >da PM2.5. Le pubblicazioni più significative sono le seguenti:<br>\n",
    ">_Action10-Report_: L'incremento di mortalità per 10 ug/m3 di PM2.5 è 0.55% nelle morti per tutte le cause per stesso giorno o >giorno precedente; nel caso di morti per motivi respiratori è il 2% nei 5 giorni precedenti.<br>\n",
    ">Il referente è **Massimo Stafoggia** (m.stafoggia@deplazio.it)<br>\n",
    ">Equazione del modello<br>\n",
    ">(vedi ref)\n",
    "\n",
    "\n",
    "[Torna a Home](#Introduzione)"
   ]
  },
  {
   "cell_type": "markdown",
   "metadata": {},
   "source": [
    "# Data\n",
    "## Dati di mortalità giornaliera\n",
    "I dati di mortalità giornalirea sono forniti da ISTAT per una serie di comuni. Sono stati estratti i dati per i comuni della lombardia nel file \n",
    "```\n",
    "nomefile='comuni_Lombardia_giornaliero.txt'\n",
    "```\n",
    "Per la decodifica dei dati si veda il file pdf **Descrizione e tracciato record dati comunali giornalieri**\n",
    "\n",
    "\n",
    "[Torna a Home](#Introduzione)"
   ]
  }
 ],
 "metadata": {
  "kernelspec": {
   "display_name": "Python 3",
   "language": "python",
   "name": "python3"
  },
  "language_info": {
   "codemirror_mode": {
    "name": "ipython",
    "version": 3
   },
   "file_extension": ".py",
   "mimetype": "text/x-python",
   "name": "python",
   "nbconvert_exporter": "python",
   "pygments_lexer": "ipython3",
   "version": "3.6.5"
  }
 },
 "nbformat": 4,
 "nbformat_minor": 4
}
