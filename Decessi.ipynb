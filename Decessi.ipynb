{
 "cells": [
  {
   "cell_type": "markdown",
   "metadata": {},
   "source": [
    "# Playbook per il calcolo dei decessi da PM e Covid"
   ]
  },
  {
   "cell_type": "markdown",
   "metadata": {},
   "source": [
    "## Introduzione\n",
    "Numerosi gruppi di lavoro hanno approcciato questo tema, sul quale ci sono numerose [*pubblicazioni*](#References).\n",
    "Tuttavia pochi lavori sembrano identificare in modo corretto le relazioni causa-effetto o avere un approccio sistematico data la difficoltà di evidenziare relazioni anche solo di correlazioni in un meccanismo estremamente complesso.\n",
    "Per cercare di fare ordine si è organizzato il playbook in sezioni:"
   ]
  },
  {
   "cell_type": "markdown",
   "metadata": {},
   "source": [
    "0. [elementi conoscitivi da raccogliere](#Sezione0)<br>\n",
    "1. [relazione tra PM2.5 e decessi](#Sezione1)<br>\n",
    "    a. [effetto a lungo termine](#Sezione2)<br>\n",
    "    b. [effetto a breve](#Sezione3)<br>\n",
    "2. [la relazione tra PM2.5, decessi, decessi per  Covid-19](#Sezione4)<br>\n",
    "    a. [effetto carrier](#Pulvirus)<br>\n",
    "    b. [effetto boost a lungo termine](#Sezione6)<br>\n",
    "    c. [effetto boost a breve](#Sezione7)<br>\n",
    "3. [Organizzazione dei dati](#Data)<br>"
   ]
  },
  {
   "cell_type": "markdown",
   "metadata": {},
   "source": [
    "# Sezione0\n",
    "per riuscire ad avere completezza nella descrizione delle relazioni tra variabili è necessario avere a disposizione:\n",
    "> Numero dei decessi<br>\n",
    "> Valori di PM\n",
    "\n",
    "Il numero dei decessi consente di inferire il numero di eccesso di mortalità dovuto alla concentrazione di PM.\n",
    "**NOTA** non è chiaro se questo valore è quello riferito all'anno precedente, all'inverno precedente o a quale tipo di integrazione temporale.\n",
    "\n",
    "\n",
    "## Numero di decessi\n",
    "Il numero dei decessi può essere\n",
    "1. relativo a un anno\n",
    "2. relativo al giorno\n",
    "\n",
    "### dati provinciali\n",
    "I dati provinciali relativi ai decessi sono disponibili sul potrale di ISTAT.\n",
    "Sul repository github della protezione Civile sono disponibili i dati giornalieri a livello provinciale di decessi, tamponi, guariti, infetti, ricoverati\n",
    "\n",
    "### dati comunali\n",
    "I dati dei decessi a livello comunale non sono disponibili a meno di chiedere al servizio epidemiologico di Regione Lombardia.\n",
    "Eccezionalmente sono disponibili i dati giornalieri dei decessi per comune e per classe di età si veda la [sezione data](#Data)\n",
    "## Valori di PM\n",
    "### PM2.5\n",
    "I dati disponibili sono **misurati**<br>\n",
    "Milano Pascal Città Studi (10283)<br>\n",
    "Nome dei file: 2015_; 2016_;2017_;2018_;2019_;2020_<br>\n",
    "Milano Senato (17122)<br>\n",
    "Nome dei file: 2015_; 2016_;2017_;2018_;2019_;2020_<br>\n",
    "Sono disponibili anche le **stime**<br>\n",
    "\"anno _ città _ stime\"\n",
    "\n",
    "    \n",
    "### PM10\n",
    "[Torna a Home](#Introduzione) [Torna alla sezione](#Sezione0)"
   ]
  },
  {
   "cell_type": "markdown",
   "metadata": {},
   "source": [
    "# Sezione1\n",
    "\n",
    "Tutta questa sezione dovrebbe essere ripresa integralmente dal documento word e dal file excel che dovrebbero essere copiati nel repo.\n"
   ]
  },
  {
   "cell_type": "markdown",
   "metadata": {},
   "source": [
    "# Sezione7\n",
    "** Evidenza di effetti a breve termine **\n",
    "Grazie ai dati lombardi di mortalità giornaliera [vd.](#Data) si può cercare di capire se per ogni comune:<br>\n",
    "> a. ci sia stata una differenza nei decessi tra gli anni 2015-2019 e il 2020 nei primi tre mesi<br>\n",
    "\n",
    "**Risposta**: sì, in genere nei comuni più colpiti il dato del 2020 non appartiene alla stessa distribuzione degli anni precedenti; il test di Shapiro-Wilks e il test di Anderson (più generico) sono concordi<br>\n",
    "> b. la differenza sia dovuta al Covid-19<br>\n",
    "\n",
    "A parte il fatto che è l'unica ipotesi percorribile, occorrerebbe però utilizzare il dato dei contagiati che è presente solo a scala provinciale dal sito di protezione civile.\n",
    "\n",
    "> c. ci sia un effetto boost a breve termine del PM2.5<br>\n",
    "\n",
    "**Risposta**: l'effetto identificato dagli studi è debole (<2% ogni 10ug) ma non identificabile tramite correlazione di spearman sulla serie temporale 2016 di Milano. Anche il dato di Brescia, che sembrerebbe più evidente a marzo, non mostra invece correlazione significativa."
   ]
  },
  {
   "cell_type": "markdown",
   "metadata": {},
   "source": [
    "Lettura file"
   ]
  },
  {
   "cell_type": "code",
   "execution_count": 28,
   "metadata": {},
   "outputs": [],
   "source": [
    "import pandas as pd\n",
    "nomefile='comuni_Lombardia_giornaliero.txt'\n",
    "df=pd.read_csv(nomefile, engine='python')"
   ]
  },
  {
   "cell_type": "code",
   "execution_count": 39,
   "metadata": {},
   "outputs": [],
   "source": [
    "datipm='2016_10283_1.csv'\n",
    "pm25_10283=pd.read_csv(datipm,skiprows=4,names=['Data','Conc'],na_values=-999,engine='python')\n",
    "datipm='2016_17122_1.csv'\n",
    "pm25_17122=pd.read_csv(datipm,skiprows=4,names=['Data','Conc'],na_values=-999,engine='python')\n",
    "datipm='2016_Milano_stima.csv'\n",
    "pm25_stime=pd.read_csv(datipm,skiprows=4,names=['Data','Conc'],na_values=-999,engine='python')"
   ]
  },
  {
   "cell_type": "markdown",
   "metadata": {},
   "source": [
    "I dati di stima di Milano e le misure nei due siti sono abbastanza simili e possono essere presi in alternativa, almeno per il 2016.<br>\n",
    "Occorrerebbe una statistica più ampia"
   ]
  },
  {
   "cell_type": "code",
   "execution_count": 23,
   "metadata": {
    "collapsed": true
   },
   "outputs": [
    {
     "data": {
      "text/plain": [
       "0      73.0\n",
       "1      43.0\n",
       "2      36.0\n",
       "3      38.0\n",
       "4      38.0\n",
       "5      38.0\n",
       "6      41.0\n",
       "7      52.0\n",
       "8      53.0\n",
       "9      44.0\n",
       "10     30.0\n",
       "11     29.0\n",
       "12     20.0\n",
       "13     29.0\n",
       "14     25.0\n",
       "15     21.0\n",
       "16      7.0\n",
       "17     22.0\n",
       "18     44.0\n",
       "19     61.0\n",
       "20     80.0\n",
       "21     98.0\n",
       "22     88.0\n",
       "23    104.0\n",
       "24     91.0\n",
       "25     51.0\n",
       "26     76.0\n",
       "27     89.0\n",
       "28     73.0\n",
       "29    120.0\n",
       "      ...  \n",
       "61      NaN\n",
       "62     10.0\n",
       "63     24.0\n",
       "64     12.0\n",
       "65     33.0\n",
       "66     38.0\n",
       "67     36.0\n",
       "68     21.0\n",
       "69     33.0\n",
       "70     29.0\n",
       "71     32.0\n",
       "72     23.0\n",
       "73     20.0\n",
       "74     34.0\n",
       "75     13.0\n",
       "76     24.0\n",
       "77     30.0\n",
       "78     24.0\n",
       "79     18.0\n",
       "80     23.0\n",
       "81     44.0\n",
       "82     31.0\n",
       "83     33.0\n",
       "84     25.0\n",
       "85     35.0\n",
       "86     32.0\n",
       "87     24.0\n",
       "88     14.0\n",
       "89     21.0\n",
       "90     30.0\n",
       "Name: Conc, Length: 91, dtype: float64"
      ]
     },
     "execution_count": 23,
     "metadata": {},
     "output_type": "execute_result"
    }
   ],
   "source": [
    "pm25['Conc']"
   ]
  },
  {
   "cell_type": "markdown",
   "metadata": {},
   "source": [
    "# Spearman correlation"
   ]
  },
  {
   "cell_type": "code",
   "execution_count": 63,
   "metadata": {},
   "outputs": [
    {
     "data": {
      "text/plain": [
       "SpearmanrResult(correlation=-0.3529536388627275, pvalue=0.3514922203598395)"
      ]
     },
     "execution_count": 63,
     "metadata": {},
     "output_type": "execute_result"
    }
   ],
   "source": [
    "from scipy import stats\n",
    "decessi=df_tot.query('NOME_COMUNE==@Comune')['T_16']\n",
    "#decessi[0:91],pm25_stime.Conc\n",
    "stats.spearmanr(pm25_stime.Conc[23:32],decessi[23:32])\n"
   ]
  },
  {
   "cell_type": "markdown",
   "metadata": {},
   "source": [
    "# Caso Brescia"
   ]
  },
  {
   "cell_type": "code",
   "execution_count": 65,
   "metadata": {},
   "outputs": [],
   "source": [
    "datipm='2016_Brescia_stima.csv'\n",
    "pm25_stime=pd.read_csv(datipm,skiprows=4,names=['Data','Conc'],na_values=-999,engine='python')\n",
    "Comune='Brescia'\n",
    "decessi=df_tot.query('NOME_COMUNE==@Comune')['T_16']"
   ]
  },
  {
   "attachments": {
    "image.png": {
     "image/png": "[encoded data removed]"
    }
   },
   "cell_type": "markdown",
   "metadata": {},
   "source": [
    "grafico\n",
    "![image.png](attachment:image.png)"
   ]
  },
  {
   "cell_type": "code",
   "execution_count": 66,
   "metadata": {},
   "outputs": [
    {
     "name": "stderr",
     "output_type": "stream",
     "text": [
      "C:\\Users\\Mauro\\Anaconda3\\lib\\site-packages\\bokeh\\models\\sources.py:110: BokehUserWarning: ColumnDataSource's columns must be of the same length. Current lengths: ('x', 91), ('y', 121)\n",
      "  \"Current lengths: %s\" % \", \".join(sorted(str((k, len(v))) for k, v in data.items())), BokehUserWarning))\n"
     ]
    }
   ],
   "source": [
    "p=figure(plot_width=600,plot_height=300,title=\"Concentrazione PM2.5 Comune \"+Comune, x_axis_label='data',y_axis_label='ug/m3',x_axis_type='datetime')\n",
    "p.line(x,pm25_stime.Conc,line_color=\"black\",legend='Stima')\n",
    "# usa i dati dei decessi\n",
    "s=figure(plot_width=600,plot_height=300,title=\"Decessi Comune \"+Comune, x_axis_label='data',y_axis_label='num',x_axis_type='datetime')\n",
    "s.line(x,decessi,line_color=\"blue\")\n",
    "show(column(p,s))"
   ]
  },
  {
   "cell_type": "markdown",
   "metadata": {},
   "source": [
    "Test"
   ]
  },
  {
   "cell_type": "code",
   "execution_count": 73,
   "metadata": {},
   "outputs": [
    {
     "data": {
      "text/plain": [
       "SpearmanrResult(correlation=-0.09132515299544462, pvalue=0.7894319152541067)"
      ]
     },
     "execution_count": 73,
     "metadata": {},
     "output_type": "execute_result"
    }
   ],
   "source": [
    "stats.spearmanr(pm25_stime.Conc[59:70],decessi[60:71])"
   ]
  },
  {
   "cell_type": "markdown",
   "metadata": {},
   "source": [
    "## Esito test\n",
    "Il test su Milano 2016 non mostra correlazione non parametrica tra le serie.\n"
   ]
  },
  {
   "cell_type": "code",
   "execution_count": 40,
   "metadata": {},
   "outputs": [
    {
     "name": "stderr",
     "output_type": "stream",
     "text": [
      "C:\\Users\\Mauro\\Anaconda3\\lib\\site-packages\\bokeh\\models\\sources.py:110: BokehUserWarning: ColumnDataSource's columns must be of the same length. Current lengths: ('x', 91), ('y', 121)\n",
      "  \"Current lengths: %s\" % \", \".join(sorted(str((k, len(v))) for k, v in data.items())), BokehUserWarning))\n"
     ]
    }
   ],
   "source": [
    "from bokeh.layouts import column\n",
    "from bokeh.plotting import figure\n",
    "\n",
    "output_file(\"pm25.html\")\n",
    "x=pd.date_range('2016-01-01',periods=91,freq='D')\n",
    "Comune=\"Milano\"\n",
    "p=figure(plot_width=600,plot_height=300,title=\"Concentrazione PM2.5 Comune \"+Comune, x_axis_label='data',y_axis_label='ug/m3',x_axis_type='datetime')\n",
    "p.line(x,pm25_10283.Conc,line_color=\"red\",legend='10283')\n",
    "p.line(x,pm25_17122.Conc,line_color=\"orange\",legend='17122')\n",
    "p.line(x,pm25_stime.Conc,line_color=\"black\",legend='Stima')\n",
    "# usa i dati dei decessi\n",
    "s=figure(plot_width=600,plot_height=300,title=\"Decessi Comune \"+Comune, x_axis_label='data',y_axis_label='num',x_axis_type='datetime')\n",
    "s.line(x,df_tot.query('NOME_COMUNE==@Comune')['T_16'],line_color=\"blue\")\n",
    "show(column(p,s))"
   ]
  },
  {
   "cell_type": "markdown",
   "metadata": {},
   "source": [
    "Controllo"
   ]
  },
  {
   "cell_type": "code",
   "execution_count": 32,
   "metadata": {
    "collapsed": true
   },
   "outputs": [
    {
     "data": {
      "text/plain": [
       "46887    0.0\n",
       "46888    0.0\n",
       "46889    0.0\n",
       "46890    0.0\n",
       "46891    0.0\n",
       "46892    0.0\n",
       "46893    0.0\n",
       "46894    0.0\n",
       "46895    0.0\n",
       "46896    0.0\n",
       "46897    0.0\n",
       "46898    0.0\n",
       "46899    0.0\n",
       "46900    1.0\n",
       "46901    1.0\n",
       "46902    0.0\n",
       "46903    2.0\n",
       "46904    0.0\n",
       "46905    1.0\n",
       "46906    0.0\n",
       "46907    0.0\n",
       "46908    1.0\n",
       "46909    0.0\n",
       "46910    0.0\n",
       "46911    0.0\n",
       "46912    0.0\n",
       "46913    1.0\n",
       "46914    0.0\n",
       "46915    0.0\n",
       "46916    1.0\n",
       "        ... \n",
       "48605    2.0\n",
       "48606    1.0\n",
       "48607    1.0\n",
       "48608    1.0\n",
       "48609    1.0\n",
       "48610    0.0\n",
       "48611    1.0\n",
       "48612    1.0\n",
       "48613    1.0\n",
       "48614    2.0\n",
       "48615    4.0\n",
       "48616    0.0\n",
       "48617    0.0\n",
       "48618    0.0\n",
       "48619    0.0\n",
       "48620    0.0\n",
       "48621    NaN\n",
       "48622    NaN\n",
       "48623    NaN\n",
       "48624    NaN\n",
       "48625    NaN\n",
       "48626    NaN\n",
       "48627    NaN\n",
       "48628    NaN\n",
       "48629    NaN\n",
       "48630    NaN\n",
       "48631    NaN\n",
       "48632    NaN\n",
       "48633    NaN\n",
       "48634    NaN\n",
       "Name: T_20, Length: 1748, dtype: float64"
      ]
     },
     "execution_count": 32,
     "metadata": {},
     "output_type": "execute_result"
    }
   ],
   "source": [
    "df.query('NOME_COMUNE==\"Milano\"')['T_20']"
   ]
  },
  {
   "cell_type": "markdown",
   "metadata": {},
   "source": [
    "Raggruppamento per comune e data"
   ]
  },
  {
   "cell_type": "code",
   "execution_count": 31,
   "metadata": {},
   "outputs": [],
   "source": [
    "df_tot=df.groupby(['NOME_COMUNE','GE']).sum()"
   ]
  },
  {
   "cell_type": "markdown",
   "metadata": {},
   "source": [
    "Controllo"
   ]
  },
  {
   "cell_type": "markdown",
   "metadata": {},
   "source": [
    "Plottaggio in bokeh"
   ]
  },
  {
   "cell_type": "markdown",
   "metadata": {},
   "source": [
    "![Milano](Milano.png)"
   ]
  },
  {
   "cell_type": "code",
   "execution_count": 33,
   "metadata": {},
   "outputs": [],
   "source": [
    "from bokeh.plotting import figure, output_file, show\n",
    "output_file(\"decessi.html\")\n",
    "x=pd.date_range('2020-01-01',periods=120,freq='D')"
   ]
  },
  {
   "cell_type": "markdown",
   "metadata": {},
   "source": [
    "Codice per il plottaggio del generico comune: basta cambiare il nome e il plottaggio viene eseguito in una scheda del browser"
   ]
  },
  {
   "cell_type": "code",
   "execution_count": 34,
   "metadata": {},
   "outputs": [
    {
     "name": "stderr",
     "output_type": "stream",
     "text": [
      "C:\\Users\\Mauro\\Anaconda3\\lib\\site-packages\\bokeh\\models\\sources.py:110: BokehUserWarning: ColumnDataSource's columns must be of the same length. Current lengths: ('x', 120), ('y', 121)\n",
      "  \"Current lengths: %s\" % \", \".join(sorted(str((k, len(v))) for k, v in data.items())), BokehUserWarning))\n",
      "C:\\Users\\Mauro\\Anaconda3\\lib\\site-packages\\bokeh\\models\\sources.py:110: BokehUserWarning: ColumnDataSource's columns must be of the same length. Current lengths: ('x', 120), ('y', 121)\n",
      "  \"Current lengths: %s\" % \", \".join(sorted(str((k, len(v))) for k, v in data.items())), BokehUserWarning))\n",
      "C:\\Users\\Mauro\\Anaconda3\\lib\\site-packages\\bokeh\\models\\sources.py:110: BokehUserWarning: ColumnDataSource's columns must be of the same length. Current lengths: ('x', 120), ('y', 121)\n",
      "  \"Current lengths: %s\" % \", \".join(sorted(str((k, len(v))) for k, v in data.items())), BokehUserWarning))\n",
      "C:\\Users\\Mauro\\Anaconda3\\lib\\site-packages\\bokeh\\models\\sources.py:110: BokehUserWarning: ColumnDataSource's columns must be of the same length. Current lengths: ('x', 120), ('y', 121)\n",
      "  \"Current lengths: %s\" % \", \".join(sorted(str((k, len(v))) for k, v in data.items())), BokehUserWarning))\n",
      "C:\\Users\\Mauro\\Anaconda3\\lib\\site-packages\\bokeh\\models\\sources.py:110: BokehUserWarning: ColumnDataSource's columns must be of the same length. Current lengths: ('x', 120), ('y', 121)\n",
      "  \"Current lengths: %s\" % \", \".join(sorted(str((k, len(v))) for k, v in data.items())), BokehUserWarning))\n",
      "C:\\Users\\Mauro\\Anaconda3\\lib\\site-packages\\bokeh\\models\\sources.py:110: BokehUserWarning: ColumnDataSource's columns must be of the same length. Current lengths: ('x', 120), ('y', 121)\n",
      "  \"Current lengths: %s\" % \", \".join(sorted(str((k, len(v))) for k, v in data.items())), BokehUserWarning))\n"
     ]
    }
   ],
   "source": [
    "Comune=\"Milano\"\n",
    "p=figure(title=\"Decessi Comune \"+Comune, x_axis_label='data',y_axis_label='num',x_axis_type='datetime')\n",
    "p.line(x,df_tot.query('NOME_COMUNE==@Comune')['T_20'],line_color=\"red\",legend='2020')\n",
    "p.line(x,df_tot.query('NOME_COMUNE==@Comune')['T_19'],line_color=\"blue\")\n",
    "p.line(x,df_tot.query('NOME_COMUNE==@Comune')['T_18'],line_color=\"blue\")\n",
    "p.line(x,df_tot.query('NOME_COMUNE==@Comune')['T_17'],line_color=\"blue\")\n",
    "p.line(x,df_tot.query('NOME_COMUNE==@Comune')['T_16'],line_color=\"blue\")\n",
    "p.line(x,df_tot.query('NOME_COMUNE==@Comune')['T_15'],line_color=\"blue\")\n",
    "show(p)\n"
   ]
  },
  {
   "cell_type": "markdown",
   "metadata": {},
   "source": [
    "# Approccio statistico\n",
    "L'approccio più corretto è quello probabilistico: la distribuzione è data dagli anni precedenti (T_15->T19): quanto è probabile che il dato T_20 appartenga a quella distribuzione? Infatti è ragionevole pensare che il numero di morti sia casuale ma costante in assenza di eventi. Una volta identificati questi casi per categoria d'età si può vedere se c'è correlazione con presenza di casa di cura. Sarebbe ancora più interessante vedere se c'è correlazione con RSA che hanno accettato COVID\n"
   ]
  },
  {
   "cell_type": "code",
   "execution_count": 148,
   "metadata": {},
   "outputs": [],
   "source": [
    "from scipy import stats"
   ]
  },
  {
   "cell_type": "markdown",
   "metadata": {},
   "source": [
    "Test shapiro wilks se i dati sono gaussiani, confidenza 99%.\n",
    "\n",
    "Aggiunta condizione su max nel 2020"
   ]
  },
  {
   "cell_type": "code",
   "execution_count": 238,
   "metadata": {},
   "outputs": [
    {
     "name": "stdout",
     "output_type": "stream",
     "text": [
      "Non posso dire Gaussiana (\"Castiglione d'Adda\", 103) (0, 0, 0, 0, 0, 1.0) 2.0729139578179456e-05\n",
      "Non posso dire Gaussiana (\"Castiglione d'Adda\", 112) (1, 0, 0, 0, 0, 2.0) 0.006373272743076086\n",
      "Non posso dire Gaussiana (\"Castiglione d'Adda\", 125) (0, 0, 0, 0, 1, 1.0) 0.0013507520779967308\n",
      "Non posso dire Gaussiana (\"Castiglione d'Adda\", 127) (0, 0, 1, 0, 0, 1.0) 0.0013507520779967308\n",
      "Non posso dire Gaussiana (\"Castiglione d'Adda\", 130) (0, 1, 1, 1, 0, 1.0) 0.0013507615076377988\n",
      "Non posso dire Gaussiana (\"Castiglione d'Adda\", 204) (1, 0, 0, 0, 0, 1.0) 0.0013507520779967308\n",
      "Non posso dire Gaussiana (\"Castiglione d'Adda\", 205) (0, 0, 0, 0, 0, 1.0) 2.0729139578179456e-05\n",
      "Non posso dire Gaussiana (\"Castiglione d'Adda\", 220) (0, 0, 0, 0, 1, 1.0) 0.0013507520779967308\n",
      "Non posso dire Gaussiana (\"Castiglione d'Adda\", 223) (0, 0, 0, 0, 0, 1.0) 2.0729139578179456e-05\n",
      "Non posso dire Gaussiana (\"Castiglione d'Adda\", 228) (0, 0, 0, 1, 0, 2.0) 0.006373272743076086\n",
      "Non posso dire Gaussiana (\"Castiglione d'Adda\", 229) (0, 0, 0, 0, 0, 3.0) 2.0729139578179456e-05\n",
      "Non posso dire Gaussiana (\"Castiglione d'Adda\", 301) (0, 0, 0, 0, 0, 3.0) 2.0729139578179456e-05\n",
      "Non posso dire Gaussiana (\"Castiglione d'Adda\", 303) (0, 0, 0, 0, 0, 5.0) 2.0729139578179456e-05\n",
      "Non posso dire Gaussiana (\"Castiglione d'Adda\", 305) (1, 0, 1, 0, 0, 1.0) 0.004039337392896414\n",
      "Non posso dire Gaussiana (\"Castiglione d'Adda\", 306) (0, 0, 0, 0, 0, 3.0) 2.0729139578179456e-05\n",
      "Non posso dire Gaussiana (\"Castiglione d'Adda\", 307) (0, 0, 0, 0, 0, 1.0) 2.0729139578179456e-05\n",
      "Non posso dire Gaussiana (\"Castiglione d'Adda\", 308) (0, 0, 0, 0, 0, 1.0) 2.0729139578179456e-05\n",
      "Non posso dire Gaussiana (\"Castiglione d'Adda\", 309) (1, 0, 0, 0, 0, 3.0) 0.002641358645632863\n",
      "Non posso dire Gaussiana (\"Castiglione d'Adda\", 310) (0, 0, 0, 0, 0, 3.0) 2.0729139578179456e-05\n",
      "Non posso dire Gaussiana (\"Castiglione d'Adda\", 311) (0, 0, 0, 1, 0, 5.0) 0.0006205856334418058\n",
      "Non posso dire Gaussiana (\"Castiglione d'Adda\", 312) (0, 0, 0, 1, 0, 1.0) 0.0013507520779967308\n",
      "Non posso dire Gaussiana (\"Castiglione d'Adda\", 314) (0, 0, 0, 1, 0, 1.0) 0.0013507520779967308\n",
      "Non posso dire Gaussiana (\"Castiglione d'Adda\", 316) (0, 0, 0, 0, 0, 1.0) 2.0729139578179456e-05\n",
      "Non posso dire Gaussiana (\"Castiglione d'Adda\", 318) (0, 0, 1, 1, 0, 6.0) 0.0019333056407049298\n",
      "Non posso dire Gaussiana (\"Castiglione d'Adda\", 319) (1, 0, 0, 0, 0, 3.0) 0.002641358645632863\n",
      "Non posso dire Gaussiana (\"Castiglione d'Adda\", 321) (0, 0, 0, 0, 0, 2.0) 2.0729139578179456e-05\n",
      "Non posso dire Gaussiana (\"Castiglione d'Adda\", 323) (0, 0, 0, 0, 0, 1.0) 2.0729139578179456e-05\n",
      "Non posso dire Gaussiana (\"Castiglione d'Adda\", 324) (0, 0, 0, 0, 1, 1.0) 0.0013507520779967308\n",
      "Non posso dire Gaussiana (\"Castiglione d'Adda\", 328) (0, 0, 1, 0, 0, 1.0) 0.0013507520779967308\n",
      "Non posso dire Gaussiana (\"Castiglione d'Adda\", 330) (0, 0, 0, 1, 0, 1.0) 0.0013507520779967308\n",
      "Non posso dire Gaussiana (\"Castiglione d'Adda\", 401) (0, 1, 0, 1, 0, 1.0) 0.004039337392896414\n",
      "Non posso dire Gaussiana (\"Castiglione d'Adda\", 402) (0, 1, 0, 0, 0, 3.0) 0.002641358645632863\n",
      "Non posso dire Gaussiana (\"Castiglione d'Adda\", 406) (0, 0, 0, 0, 0, 1.0) 2.0729139578179456e-05\n",
      "Non posso dire Gaussiana (\"Castiglione d'Adda\", 413) (0, 0, 0, 0, 0, 1.0) 2.0729139578179456e-05\n"
     ]
    }
   ],
   "source": [
    "for i in df_tot.query('NOME_COMUNE==\"Castiglione d\\'Adda\"').index:\n",
    "    a=df_tot['T_15'][i],df_tot['T_16'][i],df_tot['T_17'][i],df_tot['T_18'][i],df_tot['T_19'][i],df_tot['T_20'][i]\n",
    "    stat,p=stats.shapiro(a)\n",
    "    M=0\n",
    "    M_2020=False\n",
    "    for j in a:\n",
    "        if j>M:\n",
    "            M=j\n",
    "    if (a[5]==M):\n",
    "        M_2020=True\n",
    "    #M=max(a)\n",
    "    if p< 0.01 and M_2020:\n",
    "       print ('Non posso dire Gaussiana',i,a,p)\n",
    "       \n",
    "    else:\n",
    "        #print ('Non posso negare che sia gaussiana',i,a,p)\n",
    "        instr=0\n",
    "    \n",
    "    \n"
   ]
  },
  {
   "cell_type": "markdown",
   "metadata": {},
   "source": [
    "Test kwiatowski (KPSS) sulla stazionarietà della serie: nessun risultato utile"
   ]
  },
  {
   "cell_type": "code",
   "execution_count": 174,
   "metadata": {},
   "outputs": [],
   "source": [
    "from statsmodels.tsa.stattools import kpss"
   ]
  },
  {
   "cell_type": "markdown",
   "metadata": {},
   "source": [
    "Test anderson-darling"
   ]
  },
  {
   "cell_type": "code",
   "execution_count": 231,
   "metadata": {},
   "outputs": [
    {
     "name": "stdout",
     "output_type": "stream",
     "text": [
      "(\"Castiglione d'Adda\", 102) (2, 0, 0, 0, 0, 0.0)\n",
      "Probably not Gaussian at the 15.0% level\n",
      "(\"Castiglione d'Adda\", 103) (0, 0, 0, 0, 0, 1.0)\n",
      "Probably not Gaussian at the 15.0% level\n",
      "(\"Castiglione d'Adda\", 104) (1, 0, 0, 0, 0, 0.0)\n",
      "Probably not Gaussian at the 15.0% level\n",
      "(\"Castiglione d'Adda\", 105) (1, 0, 0, 0, 2, 0.0)\n",
      "Probably not Gaussian at the 15.0% level\n",
      "(\"Castiglione d'Adda\", 110) (0, 1, 0, 1, 0, 0.0)\n",
      "Probably not Gaussian at the 15.0% level\n",
      "(\"Castiglione d'Adda\", 111) (2, 1, 0, 0, 0, 0.0)\n",
      "Probably not Gaussian at the 15.0% level\n",
      "(\"Castiglione d'Adda\", 112) (1, 0, 0, 0, 0, 2.0)\n",
      "Probably not Gaussian at the 15.0% level\n",
      "(\"Castiglione d'Adda\", 113) (2, 0, 1, 0, 0, 0.0)\n",
      "Probably not Gaussian at the 15.0% level\n",
      "(\"Castiglione d'Adda\", 114) (1, 0, 0, 1, 1, 0.0)\n",
      "Probably not Gaussian at the 15.0% level\n",
      "(\"Castiglione d'Adda\", 116) (1, 0, 1, 0, 0, 0.0)\n",
      "Probably not Gaussian at the 15.0% level\n",
      "(\"Castiglione d'Adda\", 117) (0, 0, 1, 0, 0, 0.0)\n",
      "Probably not Gaussian at the 15.0% level\n",
      "(\"Castiglione d'Adda\", 118) (0, 1, 0, 0, 0, 0.0)\n",
      "Probably not Gaussian at the 15.0% level\n",
      "(\"Castiglione d'Adda\", 120) (1, 1, 0, 0, 0, 0.0)\n",
      "Probably not Gaussian at the 15.0% level\n",
      "(\"Castiglione d'Adda\", 121) (1, 1, 0, 0, 0, 0.0)\n",
      "Probably not Gaussian at the 15.0% level\n",
      "(\"Castiglione d'Adda\", 122) (0, 1, 0, 0, 0, 0.0)\n",
      "Probably not Gaussian at the 15.0% level\n",
      "(\"Castiglione d'Adda\", 124) (0, 0, 0, 1, 0, 0.0)\n",
      "Probably not Gaussian at the 15.0% level\n",
      "(\"Castiglione d'Adda\", 125) (0, 0, 0, 0, 1, 1.0)\n",
      "Probably not Gaussian at the 15.0% level\n",
      "(\"Castiglione d'Adda\", 126) (0, 0, 0, 0, 2, 0.0)\n",
      "Probably not Gaussian at the 15.0% level\n",
      "(\"Castiglione d'Adda\", 127) (0, 0, 1, 0, 0, 1.0)\n",
      "Probably not Gaussian at the 15.0% level\n",
      "(\"Castiglione d'Adda\", 128) (0, 0, 0, 0, 1, 0.0)\n",
      "Probably not Gaussian at the 15.0% level\n",
      "(\"Castiglione d'Adda\", 129) (2, 0, 1, 0, 0, 0.0)\n",
      "Probably not Gaussian at the 15.0% level\n",
      "(\"Castiglione d'Adda\", 130) (0, 1, 1, 1, 0, 1.0)\n",
      "Probably not Gaussian at the 15.0% level\n",
      "(\"Castiglione d'Adda\", 201) (0, 0, 0, 0, 1, 0.0)\n",
      "Probably not Gaussian at the 15.0% level\n",
      "(\"Castiglione d'Adda\", 203) (0, 1, 0, 0, 0, 0.0)\n",
      "Probably not Gaussian at the 15.0% level\n",
      "(\"Castiglione d'Adda\", 204) (1, 0, 0, 0, 0, 1.0)\n",
      "Probably not Gaussian at the 15.0% level\n",
      "(\"Castiglione d'Adda\", 205) (0, 0, 0, 0, 0, 1.0)\n",
      "Probably not Gaussian at the 15.0% level\n",
      "(\"Castiglione d'Adda\", 206) (0, 1, 0, 0, 0, 0.0)\n",
      "Probably not Gaussian at the 15.0% level\n",
      "(\"Castiglione d'Adda\", 208) (0, 0, 1, 0, 0, 0.0)\n",
      "Probably not Gaussian at the 15.0% level\n",
      "(\"Castiglione d'Adda\", 209) (0, 1, 0, 0, 0, 0.0)\n",
      "Probably not Gaussian at the 15.0% level\n",
      "(\"Castiglione d'Adda\", 212) (0, 1, 0, 0, 0, 0.0)\n",
      "Probably not Gaussian at the 15.0% level\n",
      "(\"Castiglione d'Adda\", 213) (0, 0, 1, 0, 0, 0.0)\n",
      "Probably not Gaussian at the 15.0% level\n",
      "(\"Castiglione d'Adda\", 215) (0, 0, 0, 0, 1, 0.0)\n",
      "Probably not Gaussian at the 15.0% level\n",
      "(\"Castiglione d'Adda\", 216) (1, 0, 0, 0, 0, 0.0)\n",
      "Probably not Gaussian at the 15.0% level\n",
      "(\"Castiglione d'Adda\", 217) (0, 1, 0, 0, 0, 0.0)\n",
      "Probably not Gaussian at the 15.0% level\n",
      "(\"Castiglione d'Adda\", 219) (1, 0, 1, 0, 0, 0.0)\n",
      "Probably not Gaussian at the 15.0% level\n",
      "(\"Castiglione d'Adda\", 220) (0, 0, 0, 0, 1, 1.0)\n",
      "Probably not Gaussian at the 15.0% level\n",
      "(\"Castiglione d'Adda\", 223) (0, 0, 0, 0, 0, 1.0)\n",
      "Probably not Gaussian at the 15.0% level\n",
      "(\"Castiglione d'Adda\", 224) (0, 0, 0, 1, 1, 2.0)\n",
      "Probably not Gaussian at the 15.0% level\n",
      "(\"Castiglione d'Adda\", 226) (0, 0, 0, 1, 0, 0.0)\n",
      "Probably not Gaussian at the 15.0% level\n",
      "(\"Castiglione d'Adda\", 228) (0, 0, 0, 1, 0, 2.0)\n",
      "Probably not Gaussian at the 15.0% level\n",
      "(\"Castiglione d'Adda\", 229) (0, 0, 0, 0, 0, 3.0)\n",
      "Probably not Gaussian at the 15.0% level\n",
      "(\"Castiglione d'Adda\", 301) (0, 0, 0, 0, 0, 3.0)\n",
      "Probably not Gaussian at the 15.0% level\n",
      "(\"Castiglione d'Adda\", 302) (1, 0, 2, 0, 0, 1.0)\n",
      "Probably not Gaussian at the 15.0% level\n",
      "(\"Castiglione d'Adda\", 303) (0, 0, 0, 0, 0, 5.0)\n",
      "Probably not Gaussian at the 15.0% level\n",
      "(\"Castiglione d'Adda\", 304) (1, 1, 0, 0, 0, 0.0)\n",
      "Probably not Gaussian at the 15.0% level\n",
      "(\"Castiglione d'Adda\", 305) (1, 0, 1, 0, 0, 1.0)\n",
      "Probably not Gaussian at the 15.0% level\n",
      "(\"Castiglione d'Adda\", 306) (0, 0, 0, 0, 0, 3.0)\n",
      "Probably not Gaussian at the 15.0% level\n",
      "(\"Castiglione d'Adda\", 307) (0, 0, 0, 0, 0, 1.0)\n",
      "Probably not Gaussian at the 15.0% level\n",
      "(\"Castiglione d'Adda\", 308) (0, 0, 0, 0, 0, 1.0)\n",
      "Probably not Gaussian at the 15.0% level\n",
      "(\"Castiglione d'Adda\", 309) (1, 0, 0, 0, 0, 3.0)\n",
      "Probably not Gaussian at the 15.0% level\n",
      "(\"Castiglione d'Adda\", 310) (0, 0, 0, 0, 0, 3.0)\n",
      "Probably not Gaussian at the 15.0% level\n",
      "(\"Castiglione d'Adda\", 311) (0, 0, 0, 1, 0, 5.0)\n",
      "Probably not Gaussian at the 15.0% level\n",
      "(\"Castiglione d'Adda\", 312) (0, 0, 0, 1, 0, 1.0)\n",
      "Probably not Gaussian at the 15.0% level\n",
      "(\"Castiglione d'Adda\", 313) (1, 0, 0, 0, 1, 2.0)\n",
      "Probably not Gaussian at the 15.0% level\n",
      "(\"Castiglione d'Adda\", 314) (0, 0, 0, 1, 0, 1.0)\n",
      "Probably not Gaussian at the 15.0% level\n",
      "(\"Castiglione d'Adda\", 315) (0, 0, 1, 0, 1, 4.0)\n",
      "Probably not Gaussian at the 15.0% level\n",
      "(\"Castiglione d'Adda\", 316) (0, 0, 0, 0, 0, 1.0)\n",
      "Probably not Gaussian at the 15.0% level\n",
      "(\"Castiglione d'Adda\", 317) (0, 0, 1, 0, 1, 2.0)\n",
      "Probably not Gaussian at the 15.0% level\n",
      "(\"Castiglione d'Adda\", 318) (0, 0, 1, 1, 0, 6.0)\n",
      "Probably not Gaussian at the 15.0% level\n",
      "(\"Castiglione d'Adda\", 319) (1, 0, 0, 0, 0, 3.0)\n",
      "Probably not Gaussian at the 15.0% level\n",
      "(\"Castiglione d'Adda\", 321) (0, 0, 0, 0, 0, 2.0)\n",
      "Probably not Gaussian at the 15.0% level\n",
      "(\"Castiglione d'Adda\", 323) (0, 0, 0, 0, 0, 1.0)\n",
      "Probably not Gaussian at the 15.0% level\n",
      "(\"Castiglione d'Adda\", 324) (0, 0, 0, 0, 1, 1.0)\n",
      "Probably not Gaussian at the 15.0% level\n",
      "(\"Castiglione d'Adda\", 325) (2, 0, 0, 0, 0, 1.0)\n",
      "Probably not Gaussian at the 15.0% level\n",
      "(\"Castiglione d'Adda\", 326) (0, 0, 2, 0, 0, 1.0)\n",
      "Probably not Gaussian at the 15.0% level\n",
      "(\"Castiglione d'Adda\", 327) (0, 1, 0, 0, 0, 0.0)\n",
      "Probably not Gaussian at the 15.0% level\n",
      "(\"Castiglione d'Adda\", 328) (0, 0, 1, 0, 0, 1.0)\n",
      "Probably not Gaussian at the 15.0% level\n",
      "(\"Castiglione d'Adda\", 330) (0, 0, 0, 1, 0, 1.0)\n",
      "Probably not Gaussian at the 15.0% level\n",
      "(\"Castiglione d'Adda\", 401) (0, 1, 0, 1, 0, 1.0)\n",
      "Probably not Gaussian at the 15.0% level\n",
      "(\"Castiglione d'Adda\", 402) (0, 1, 0, 0, 0, 3.0)\n",
      "Probably not Gaussian at the 15.0% level\n",
      "(\"Castiglione d'Adda\", 403) (0, 0, 0, 0, 1, 0.0)\n",
      "Probably not Gaussian at the 15.0% level\n",
      "(\"Castiglione d'Adda\", 404) (0, 0, 0, 0, 1, 0.0)\n",
      "Probably not Gaussian at the 15.0% level\n",
      "(\"Castiglione d'Adda\", 405) (0, 0, 1, 0, 0, 0.0)\n",
      "Probably not Gaussian at the 15.0% level\n",
      "(\"Castiglione d'Adda\", 406) (0, 0, 0, 0, 0, 1.0)\n",
      "Probably not Gaussian at the 15.0% level\n",
      "(\"Castiglione d'Adda\", 407) (0, 0, 1, 2, 0, 0.0)\n",
      "Probably not Gaussian at the 15.0% level\n",
      "(\"Castiglione d'Adda\", 408) (1, 0, 0, 0, 0, 0.0)\n",
      "Probably not Gaussian at the 15.0% level\n",
      "(\"Castiglione d'Adda\", 409) (1, 0, 0, 1, 0, 0.0)\n",
      "Probably not Gaussian at the 15.0% level\n",
      "(\"Castiglione d'Adda\", 412) (0, 0, 0, 1, 0, 0.0)\n",
      "Probably not Gaussian at the 15.0% level\n",
      "(\"Castiglione d'Adda\", 413) (0, 0, 0, 0, 0, 1.0)\n",
      "Probably not Gaussian at the 15.0% level\n",
      "(\"Castiglione d'Adda\", 416) (0, 0, 1, 1, 0, 0.0)\n",
      "Probably not Gaussian at the 15.0% level\n",
      "(\"Castiglione d'Adda\", 418) (0, 0, 0, 1, 0, 0.0)\n",
      "Probably not Gaussian at the 15.0% level\n",
      "(\"Castiglione d'Adda\", 419) (0, 0, 0, 1, 0, 0.0)\n",
      "Probably not Gaussian at the 15.0% level\n",
      "(\"Castiglione d'Adda\", 421) (0, 0, 0, 1, 1, 0.0)\n",
      "Probably not Gaussian at the 15.0% level\n",
      "(\"Castiglione d'Adda\", 423) (2, 0, 0, 0, 0, 0.0)\n",
      "Probably not Gaussian at the 15.0% level\n",
      "(\"Castiglione d'Adda\", 424) (0, 1, 1, 0, 2, 0.0)\n",
      "(\"Castiglione d'Adda\", 427) (0, 1, 0, 0, 0, 0.0)\n",
      "Probably not Gaussian at the 15.0% level\n",
      "(\"Castiglione d'Adda\", 428) (0, 1, 0, 0, 0, 0.0)\n",
      "Probably not Gaussian at the 15.0% level\n",
      "(\"Castiglione d'Adda\", 429) (0, 0, 0, 1, 0, 0.0)\n",
      "Probably not Gaussian at the 15.0% level\n"
     ]
    }
   ],
   "source": [
    "for i in df_tot.query('NOME_COMUNE==\"Castiglione d\\'Adda\"').index:\n",
    "    a=df_tot['T_15'][i],df_tot['T_16'][i],df_tot['T_17'][i],df_tot['T_18'][i],df_tot['T_19'][i],df_tot['T_20'][i]\n",
    "    media=sum(a)/len(a)\n",
    "    #print(max(a))\n",
    "    result=stats.anderson(a)\n",
    "    print(i,a)\n",
    "    #print('stat=%.3f' % (result.statistic))\n",
    "   # for j in range(len(result.critical_values)):\n",
    "    sl, cv = result.significance_level[0], result.critical_values[0]\n",
    "    if (result.statistic < cv and a[5] < media) :\n",
    "            #print('Probably Gaussian at the %.1f%% level' % (sl))\n",
    "            b=0\n",
    "    else:\n",
    "            print('Probably not Gaussian at the %.1f%% level' % (sl) )"
   ]
  },
  {
   "cell_type": "markdown",
   "metadata": {},
   "source": [
    "Questa impostazione funziona bene con i comuni grossi, ma con quelli piccoli dove possono esserci giorni senza decessi la condizione di gaussianità è normalmente violata sul giorno. Andrebbe integrato il dato nel tempo."
   ]
  },
  {
   "cell_type": "markdown",
   "metadata": {},
   "source": [
    "Test: la funzione max non funziona per qualche misterioso motivo, ho quindi dovuto ricrearla. Sarebbe meglio passare a una funzione vera e propria"
   ]
  },
  {
   "cell_type": "code",
   "execution_count": 235,
   "metadata": {},
   "outputs": [
    {
     "name": "stdout",
     "output_type": "stream",
     "text": [
      "15.0\n",
      "Il massimo è nel 2020\n"
     ]
    }
   ],
   "source": [
    "a=2, 1, 4, 2, 5, 15.0\n",
    "M=0\n",
    "for i in a:\n",
    "    if i>M:\n",
    "        M=i\n",
    "print(M)\n",
    "if (a[5]==M):\n",
    "    print(\"Il massimo è nel 2020\")"
   ]
  },
  {
   "cell_type": "markdown",
   "metadata": {},
   "source": [
    "**FINE SEZIONE** [Torna a Home](#Introduzione) [Torna alla sezione](#Sezione7)"
   ]
  },
  {
   "cell_type": "markdown",
   "metadata": {},
   "source": [
    "# References\n",
    "1. Relazione tra PM2.5 e decessi<br>\n",
    "    a. relazioni per esposizione prolungata<br>\n",
    "    b. relazioni per esposizioni a breve termine<br>\n",
    "2. Relazione PM2.5, decessi e Covid-19<br>\n",
    "    a. effetto carrier<br>\n",
    "    b. effetto boost per esposizione prolungata<br>\n",
    "    c. effetto boost per esposizione a breve termine<br>\n",
    ">**Med-particles** Il progetto ha indagato la relazione tra mortalità e morbilità a breve termine in relazione all'inquinamento >da PM2.5. Le pubblicazioni più significative sono le seguenti:<br>\n",
    ">_Action10-Report_: L'incremento di mortalità per 10 ug/m3 di PM2.5 è 0.55% nelle morti per tutte le cause per stesso giorno o >giorno precedente; nel caso di morti per motivi respiratori è il 2% nei 5 giorni precedenti.<br>\n",
    ">Il referente è **Massimo Stafoggia** (m.stafoggia@deplazio.it)<br>\n",
    ">Equazione del modello<br>\n",
    ">(vedi ref)\n",
    "\n",
    "\n",
    "[Torna a Home](#Introduzione)"
   ]
  },
  {
   "cell_type": "markdown",
   "metadata": {},
   "source": [
    "# Data\n",
    "## Dati di mortalità giornaliera\n",
    "I dati di mortalità giornalirea sono forniti da ISTAT per una serie di comuni. Sono stati estratti i dati per i comuni della lombardia nel file \n",
    "```\n",
    "nomefile='comuni_Lombardia_giornaliero.txt'\n",
    "```\n",
    "Per la decodifica dei dati si veda il file pdf **Descrizione e tracciato record dati comunali giornalieri**\n",
    "\n",
    "\n",
    "[Torna a Home](#Introduzione)"
   ]
  }
 ],
 "metadata": {
  "kernelspec": {
   "display_name": "Python 3",
   "language": "python",
   "name": "python3"
  },
  "language_info": {
   "codemirror_mode": {
    "name": "ipython",
    "version": 3
   },
   "file_extension": ".py",
   "mimetype": "text/x-python",
   "name": "python",
   "nbconvert_exporter": "python",
   "pygments_lexer": "ipython3",
   "version": "3.6.5"
  }
 },
 "nbformat": 4,
 "nbformat_minor": 4
}
